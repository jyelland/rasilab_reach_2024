{
 "cells": [
  {
   "attachments": {},
   "cell_type": "markdown",
   "metadata": {},
   "source": [
    "# Introduction to Python, data types, and logic\n",
    "\n",
    "1. Review of Python data types\n",
    "2. Conditional logic in Python\n",
    "3. Looping over data in Python\n",
    "4. Introduction to libraries\n",
    "\n",
    "### Helpful Resources:\n",
    "- [Python Data Science Handbook](http://shop.oreilly.com/product/0636920034919.do) by Jake VanderPlas\n",
    "- [Jupyter Notebook documentation](https://jupyter-notebook.readthedocs.io/en/stable/)\n",
    "- [A gallery of interesting Jupyter Notebooks](https://github.com/jupyter/jupyter/wiki/A-gallery-of-interesting-Jupyter-Notebooks)\n",
    "- [Markdown syntax](https://github.com/adam-p/markdown-here/wiki/Markdown-Cheatsheet)"
   ]
  },
  {
   "attachments": {},
   "cell_type": "markdown",
   "metadata": {},
   "source": [
    "## Python data types\n",
    "\n",
    "| type | description |\n",
    "|------|------------|\n",
    "| primitive | int, float, string, bool |\n",
    "| tuple | An immutable collection of ordered objects |\n",
    "| list | A mutable collection of ordered objects |\n",
    "| dictionary | A mutable collection of named objects |\n",
    "\n",
    "There are several basic data types we can work with in Python. This week we'll look at some of the most common types of data - comments, numbers, strings, variables, and lists. Each of these types of data have specific rules for how Python can understand and manipulate the data. For example, strings and lists can be evaluated using the command `len()` to find the length. However, Python cannot use `len()` to find the number of digits in a number. "
   ]
  },
  {
   "attachments": {},
   "cell_type": "markdown",
   "metadata": {},
   "source": [
    "### Comments\n",
    "Comments are like notes in the margins of your wet lab notebook. Use comments to describe what a piece of code is doing and why, so that other people (or future you!) can more easily understand your code. Although comments are ignored by Python, they are crucial for making sure that your code is legible and useful for research. \n",
    "\n",
    "**Exercise:** Add a comment with your name and today's date to the bottom line of the block below:"
   ]
  },
  {
   "cell_type": "code",
   "execution_count": 5,
   "metadata": {},
   "outputs": [],
   "source": [
    "# Any line of code preceded by a pound sign \"#\" is a comment.\n",
    "# Comments can span\n",
    "# multiple lines.\n"
   ]
  },
  {
   "attachments": {},
   "cell_type": "markdown",
   "metadata": {},
   "source": [
    "### Numbers\n",
    "Most data you work with will be numbers. Python supports whole and decimal numbers, and numbers can be added, subtracted, multiplied, etc. "
   ]
  },
  {
   "cell_type": "code",
   "execution_count": 6,
   "metadata": {},
   "outputs": [
    {
     "data": {
      "text/plain": [
       "20.7"
      ]
     },
     "execution_count": 6,
     "metadata": {},
     "output_type": "execute_result"
    }
   ],
   "source": [
    "# Numbers can be evaluated in Python using standard order of operations. \n",
    "(2 + 3) * 4.14"
   ]
  },
  {
   "attachments": {},
   "cell_type": "markdown",
   "metadata": {},
   "source": [
    "**Exercise:** Evaluate the sum of 15.756, 12.445, and 90.265."
   ]
  },
  {
   "cell_type": "code",
   "execution_count": null,
   "metadata": {},
   "outputs": [],
   "source": []
  },
  {
   "attachments": {},
   "cell_type": "markdown",
   "metadata": {},
   "source": [
    "### Strings\n",
    "If our data are not numbers, they are probably strings, or characters used to represent text. Strings can represent sample names, locales, DNA sequences, and more. Python strings must be enclosed by single or double quotes.\n",
    "\n",
    "Using Python, we can look at some interesting characteristics of a piece of string data. For example, we can see whether or not something we are interested in is contained within the string. Here we would like to evaluate whether or not \"AUG\", a start codon sequence marking the beginning of a protein, is present in this long string of RNA text data. \n",
    "\n",
    "**Note:** Python will print either `True` or `False` to answer this question. `True` and `False` are another type of data called booleans."
   ]
  },
  {
   "cell_type": "code",
   "execution_count": 7,
   "metadata": {},
   "outputs": [
    {
     "data": {
      "text/plain": [
       "True"
      ]
     },
     "execution_count": 7,
     "metadata": {},
     "output_type": "execute_result"
    }
   ],
   "source": [
    "\"AUG\" in \"AUGUGCACGUCGAUCCCGACCGGCGCGCGAUCGCAUCGCUUUUCGGAAAUCGAUCGAUUA\""
   ]
  },
  {
   "cell_type": "code",
   "execution_count": 8,
   "metadata": {},
   "outputs": [
    {
     "data": {
      "text/plain": [
       "60"
      ]
     },
     "execution_count": 8,
     "metadata": {},
     "output_type": "execute_result"
    }
   ],
   "source": [
    "# Strings have lengths, and we can use the command len() to return the length: \n",
    "len(\"AUGUGCACGUCGAUCCCGACCGGCGCGCGAUCGCAUCGCUUUUCGGAAAUCGAUCGAUUA\")"
   ]
  },
  {
   "attachments": {},
   "cell_type": "markdown",
   "metadata": {},
   "source": [
    "**Exercise:** A RNA codon is a sequence of 3 RNA nucleotides. Use the length of this RNA sequence to find out how many 3-letter codons are in this particular piece of RNA."
   ]
  },
  {
   "cell_type": "code",
   "execution_count": 9,
   "metadata": {},
   "outputs": [],
   "source": [
    "length = len(\"AUGUGCACGUCGAUCCCGACCGGCGCGCGAUCGCAUCGCUUUUCGGAAAUCGAUCGAUUA\")\n",
    "\n"
   ]
  },
  {
   "attachments": {},
   "cell_type": "markdown",
   "metadata": {},
   "source": [
    "### Variables\n",
    "A variable is a nickname for a value, list, or dataset. In Python, we can assign a value to a variable name using the `=` equals sign. For example, to assign the value 25.2394857182 to a variable `weight_mg`:"
   ]
  },
  {
   "cell_type": "code",
   "execution_count": 10,
   "metadata": {},
   "outputs": [],
   "source": [
    "weight_mg = 25.2394857182"
   ]
  },
  {
   "attachments": {},
   "cell_type": "markdown",
   "metadata": {},
   "source": [
    "From now on, whenever we use the name `weight_mg`, Python will substitute the assigned value, 25.2394857182."
   ]
  },
  {
   "cell_type": "code",
   "execution_count": 11,
   "metadata": {},
   "outputs": [
    {
     "data": {
      "text/plain": [
       "30.2394857182"
      ]
     },
     "execution_count": 11,
     "metadata": {},
     "output_type": "execute_result"
    }
   ],
   "source": [
    "weight_mg + 5"
   ]
  },
  {
   "attachments": {},
   "cell_type": "markdown",
   "metadata": {},
   "source": [
    "Variables are useful for reducing typing errors. In the previous example, it would be tedious to retype or paste `25.2394857182` every time we wanted to run a different calculation. Instead, we can use the variable nickname `weight_mg`, which is easy to type and conveys something useful about what the data means. \n",
    "\n",
    "In Python, variable names: \n",
    "- can include letters, digits, and underscores\n",
    "- cannot start with a digit\n",
    "- are case sensitive.\n",
    "\n",
    "This means that, for example:\n",
    "\n",
    "- `location_0` is a valid variable name, but `0_location` is not\n",
    "- `DNA` and `dna` are different variables\n",
    "\n",
    "It is best practice to pick a name that describes something useful about the variable. For example, if I wanted to create a variable to store the value of room temperature in Kelvin, I might name it something like: `room_temp_K`. "
   ]
  },
  {
   "cell_type": "code",
   "execution_count": 12,
   "metadata": {},
   "outputs": [],
   "source": [
    "# In the previous \"string\" lab section, we had to copy and paste our RNA sequence twice \n",
    "# to ask two different questions. \n",
    "# Let's use a variable so we only need to input our data once:\n",
    "\n",
    "test_RNA = \"AUGUGCACGUCGAUCCCGACCGGCGCGCGAUCGCAUCGCUUUUCGGAAAUCGAUCGAUUA\""
   ]
  },
  {
   "cell_type": "code",
   "execution_count": 13,
   "metadata": {},
   "outputs": [
    {
     "data": {
      "text/plain": [
       "True"
      ]
     },
     "execution_count": 13,
     "metadata": {},
     "output_type": "execute_result"
    }
   ],
   "source": [
    "\"AUG\" in test_RNA"
   ]
  },
  {
   "cell_type": "code",
   "execution_count": 14,
   "metadata": {},
   "outputs": [
    {
     "data": {
      "text/plain": [
       "60"
      ]
     },
     "execution_count": 14,
     "metadata": {},
     "output_type": "execute_result"
    }
   ],
   "source": [
    "len(test_RNA)"
   ]
  },
  {
   "attachments": {},
   "cell_type": "markdown",
   "metadata": {},
   "source": [
    "**Exercise:** Using the variable `test_RNA`, find out again how many 3-letter codons are in this RNA sequence. "
   ]
  },
  {
   "cell_type": "code",
   "execution_count": null,
   "metadata": {},
   "outputs": [],
   "source": []
  },
  {
   "attachments": {},
   "cell_type": "markdown",
   "metadata": {},
   "source": [
    "### Lists\n",
    "A python list is a collection of multiple objects, such as numbers or strings, gathered into one entity. Lists are enclosed by brackets `[]`, and each item in the list is separated by a `,`. Items in a list do not all have to be of the same type - strings, booleans, floats, and many others can coexist in the same list. "
   ]
  },
  {
   "cell_type": "code",
   "execution_count": 15,
   "metadata": {},
   "outputs": [],
   "source": [
    "example_list = [123.456, \"hello\", True, 2]"
   ]
  },
  {
   "attachments": {},
   "cell_type": "markdown",
   "metadata": {},
   "source": [
    "To retrieve items we want from a list, we use a process called list indexing. In python, each item in a list is assigned an *index value*, which describes where to find that specific item. Python lists have two different indexing systems: *forward indexing* and *backward indexing*, to allow us to count from both the front and back of the list easily."
   ]
  },
  {
   "cell_type": "code",
   "execution_count": 16,
   "metadata": {},
   "outputs": [],
   "source": [
    "# Print the first item in the list by referencing its index value, 0\n"
   ]
  },
  {
   "attachments": {},
   "cell_type": "markdown",
   "metadata": {},
   "source": [
    "The data below is adapted from [*Hendry et al 1999*](https://www.jstor.org/stable/pdf/3546699.pdf?casa_token=ap-R7uPGOaAAAAAA:HFkWyeP0MmkcSrjYFP3Xtz-C5JHAFicrXA7atRBAck3AhiMVWFwKWuj-bhyfL3PEDTBGKitQpy1R_Ym4NKZjFYSbFgICllBwwaJBMHze_q3GQ_poOg), and lists the body masses of a subset of female sockeye salmon sampled in Pick Creek, Alaska. \n",
    "\n",
    "**Exercise:** Print the mass of the 1st, 12th, and the last salmon to be weighed in this research study. "
   ]
  },
  {
   "cell_type": "code",
   "execution_count": 17,
   "metadata": {},
   "outputs": [],
   "source": [
    "masses = [3.09, 2.91, 3.06, 2.69, 2.88, 2.98, 1.61, 2.16, 1.56, 1.76, 1.79, 3.3, 1.91, 1.99, 1.69]\n"
   ]
  },
  {
   "attachments": {},
   "cell_type": "markdown",
   "metadata": {},
   "source": [
    "Using Python, we can quickly find useful attributes of a dataset, such as the number of salmon in the study, or the total weight of all salmon."
   ]
  },
  {
   "cell_type": "code",
   "execution_count": 18,
   "metadata": {},
   "outputs": [
    {
     "name": "stdout",
     "output_type": "stream",
     "text": [
      "Number of salmon is: 15\n"
     ]
    }
   ],
   "source": [
    "# len() returns the length of a list\n",
    "\n",
    "number_of_salmon = len(masses)\n",
    "print(\"Number of salmon is:\", number_of_salmon)"
   ]
  },
  {
   "cell_type": "code",
   "execution_count": 19,
   "metadata": {},
   "outputs": [
    {
     "name": "stdout",
     "output_type": "stream",
     "text": [
      "Sum of salmon weights is: 35.379999999999995\n"
     ]
    }
   ],
   "source": [
    "# sum() returns the sum of values in the list\n",
    "\n",
    "sum_of_salmon_weights = sum(masses)\n",
    "print(\"Sum of salmon weights is:\", sum_of_salmon_weights)"
   ]
  },
  {
   "cell_type": "code",
   "execution_count": 20,
   "metadata": {},
   "outputs": [
    {
     "name": "stdout",
     "output_type": "stream",
     "text": [
      "[3.09, 2.91, 3.06, 2.69, 2.88, 2.98, 1.61, 2.16, 1.56, 1.76, 1.79, 3.3, 1.91, 1.99, 1.69, 1.44]\n"
     ]
    }
   ],
   "source": [
    "# Lists can also be modified to include new values. \n",
    "# Here we are adding another salmon to the dataset:\n",
    "masses.append(1.44)\n",
    "\n",
    "# When we inspect the list, we now see that the \n",
    "# new salmon has been added to the end of the list. \n",
    "print(masses)"
   ]
  },
  {
   "cell_type": "code",
   "execution_count": 21,
   "metadata": {},
   "outputs": [
    {
     "data": {
      "text/plain": [
       "True"
      ]
     },
     "execution_count": 21,
     "metadata": {},
     "output_type": "execute_result"
    }
   ],
   "source": [
    "# Like strings, you can also search for the existence of individual elements in a list.\n",
    "2.91 in masses"
   ]
  },
  {
   "cell_type": "code",
   "execution_count": 22,
   "metadata": {},
   "outputs": [
    {
     "name": "stdout",
     "output_type": "stream",
     "text": [
      "[1.44, 1.56, 1.61, 1.69, 1.76, 1.79, 1.91, 1.99, 2.16, 2.69, 2.88, 2.91, 2.98, 3.06, 3.09, 3.3]\n"
     ]
    }
   ],
   "source": [
    "# Lists can also be sorted by value...\n",
    "masses.sort()\n",
    "print(masses)"
   ]
  },
  {
   "cell_type": "code",
   "execution_count": 23,
   "metadata": {},
   "outputs": [
    {
     "name": "stdout",
     "output_type": "stream",
     "text": [
      "[3.3, 3.09, 3.06, 2.98, 2.91, 2.88, 2.69, 2.16, 1.99, 1.91, 1.79, 1.76, 1.69, 1.61, 1.56, 1.44]\n"
     ]
    }
   ],
   "source": [
    "# Or reversed\n",
    "masses.reverse()\n",
    "print(masses)"
   ]
  },
  {
   "attachments": {},
   "cell_type": "markdown",
   "metadata": {},
   "source": [
    "## Conditional logic in Python\n",
    "To analyze data, we need to test individual data values. For instance: Is this number greater than a biologically important threshold? Does this value match our predictions? Logical operators are used to see if these statements are `True` or `False`.\n",
    "\n",
    "### Logical operators\n",
    "Logic tests depend on several \"operators\" which are mostly the same across all programming languages.\n",
    "\n",
    "- Equal to: `==`\n",
    "- Not equal to: `!=`\n",
    "- Greater than: `>`\n",
    "- Less than: `<`\n",
    "- Less than or equal to: `<=`\n",
    "- Greater than or equal to: `>=`\n",
    "\n",
    "Logical tests return the boolean values `True` or `False` to answer the logical test."
   ]
  },
  {
   "cell_type": "code",
   "execution_count": 24,
   "metadata": {},
   "outputs": [
    {
     "data": {
      "text/plain": [
       "True"
      ]
     },
     "execution_count": 24,
     "metadata": {},
     "output_type": "execute_result"
    }
   ],
   "source": [
    "# Test for equality between an arithmetic statement and a value.\n",
    "2 + 2 == 4"
   ]
  },
  {
   "attachments": {},
   "cell_type": "markdown",
   "metadata": {
    "collapsed": true
   },
   "source": [
    "**Exercise:** Run a logical test to see if 5.01 is greater than or equal to 6."
   ]
  },
  {
   "cell_type": "code",
   "execution_count": null,
   "metadata": {},
   "outputs": [],
   "source": []
  },
  {
   "attachments": {},
   "cell_type": "markdown",
   "metadata": {},
   "source": [
    "### If statements\n",
    "We can ask Python to make different choices based on the results of a logical test. This is called an `if` statement. In a Python `if` statement:\n",
    "- The first line begins with the command `if`, followed by a logical test, followed by a `:`\n",
    "- The subsequent lines describes what should happen if the statement is true. \n",
    "- The subsequent lines are always indented one tab more from the original if statement. This formatting style indicates to Python that the indented code should be run only when the if statement is true. "
   ]
  },
  {
   "cell_type": "code",
   "execution_count": 25,
   "metadata": {},
   "outputs": [
    {
     "name": "stdout",
     "output_type": "stream",
     "text": [
      "Excessive heat warning!\n"
     ]
    }
   ],
   "source": [
    "temperature_F = 125\n",
    "\n",
    "if temperature_F > 115:\n",
    "    print(\"Excessive heat warning!\")"
   ]
  },
  {
   "attachments": {},
   "cell_type": "markdown",
   "metadata": {},
   "source": [
    "If the logical test in an `if` statement is false, Python will ignore the indented block of code following the `if` statement. However, everything else in the code will still run as normal:"
   ]
  },
  {
   "cell_type": "code",
   "execution_count": 26,
   "metadata": {},
   "outputs": [
    {
     "name": "stdout",
     "output_type": "stream",
     "text": [
      "We are printing something before the if statement.\n",
      "We are printing something after the if statement.\n"
     ]
    }
   ],
   "source": [
    "print(\"We are printing something before the if statement.\")\n",
    "\n",
    "temperature_F = 101\n",
    "\n",
    "if temperature_F > 115:\n",
    "    print(\"Excessive heat warning!\")\n",
    "    \n",
    "# This code is no longer indented, so it is not part of the if statement.\n",
    "print(\"We are printing something after the if statement.\")"
   ]
  },
  {
   "attachments": {},
   "cell_type": "markdown",
   "metadata": {},
   "source": [
    "### elif and else\n",
    "We can also chain several tests together using the commands `else` and `elif` (short for else if). For example:"
   ]
  },
  {
   "cell_type": "code",
   "execution_count": 27,
   "metadata": {},
   "outputs": [
    {
     "name": "stdout",
     "output_type": "stream",
     "text": [
      "It's not too hot or cold today.\n"
     ]
    }
   ],
   "source": [
    "temperature_F = 101\n",
    "\n",
    "if temperature_F > 115:\n",
    "    print(\"Excessive heat warning!\")\n",
    "elif temperature_F < 32:\n",
    "    print(\"You need a jacket to go outside today!\")\n",
    "else:\n",
    "    print(\"It's not too hot or cold today.\")"
   ]
  },
  {
   "attachments": {},
   "cell_type": "markdown",
   "metadata": {},
   "source": [
    "**Exercise:** Write an `if` statement that fulfils the following requirements: \n",
    "- if the dam water level is above 50, print a flood warning\n",
    "- if the dam water level is below 5, print a drought warning\n",
    "- otherwise, print that nothing is wrong"
   ]
  },
  {
   "cell_type": "code",
   "execution_count": 28,
   "metadata": {},
   "outputs": [
    {
     "name": "stdout",
     "output_type": "stream",
     "text": [
      "nothing is wrong\n"
     ]
    }
   ],
   "source": [
    "dam_level = 20\n",
    "\n",
    "if dam_level > 50:\n",
    "        print('flood warning')\n",
    "elif dam_level < 5:\n",
    "        print('drought warning')\n",
    "else:\n",
    "    print('nothing is wrong')"
   ]
  },
  {
   "attachments": {},
   "cell_type": "markdown",
   "metadata": {},
   "source": [
    "### Logical tests can be combined\n",
    "We can use `and` to require multiple logical tests to be true. We can also use `or` to accept one or more tests as true.\n",
    "\n",
    "#### An example of a test with an `and` statement:\n",
    "We predict that an aurora will probably not be visible unless the sky is clear *and* solar activity is high. This code runs a logical test for these two questions, and depending on the results, makes different choices in what to print. "
   ]
  },
  {
   "cell_type": "code",
   "execution_count": 29,
   "metadata": {},
   "outputs": [
    {
     "name": "stdout",
     "output_type": "stream",
     "text": [
      "Conditions may be good for seeing an aurora tonight\n"
     ]
    }
   ],
   "source": [
    "cloudy = False\n",
    "solar_activity = 172.0\n",
    "\n",
    "if cloudy == False and solar_activity > 150:\n",
    "    print(\"Conditions may be good for seeing an aurora tonight\")\n",
    "else:\n",
    "    print(\"It seems unlikely that you will see an aurora tonight.\")"
   ]
  },
  {
   "attachments": {},
   "cell_type": "markdown",
   "metadata": {},
   "source": [
    "#### An example of a test with an `or` statement:\n",
    "\n",
    "There are 3 possible RNA stop codons that mark the end of a protein sequence: UAG, UAA, *or* UGA. We want to see if any one of the three are present in an RNA sequence, since all 3 stop codons serve the same function in biology. "
   ]
  },
  {
   "cell_type": "code",
   "execution_count": 30,
   "metadata": {},
   "outputs": [
    {
     "name": "stdout",
     "output_type": "stream",
     "text": [
      "There is at least one stop codon present in this RNA data.\n"
     ]
    }
   ],
   "source": [
    "RNA = \"AUGUUGAGGGGUAGUAGUAGUGGGUGUAGUGAUCCCCCCCCCCGUGUCGCUCGAUCGUAACCUA\"\n",
    "\n",
    "if \"UAG\" in RNA or \"UAA\" in RNA or \"UGA\" in RNA: \n",
    "    print(\"There is at least one stop codon present in this RNA data.\")\n",
    "else:\n",
    "    print(\"There is no stop codon in this RNA data.\")"
   ]
  },
  {
   "attachments": {},
   "cell_type": "markdown",
   "metadata": {},
   "source": [
    "**Exercise:** Both excessively high or low blood pressure can be dangerous. Edit code below to print a warning if `patient_blood_pressure` is either above 140, *or* below 50. "
   ]
  },
  {
   "cell_type": "code",
   "execution_count": 43,
   "metadata": {},
   "outputs": [
    {
     "name": "stdout",
     "output_type": "stream",
     "text": [
      "no problems\n"
     ]
    }
   ],
   "source": [
    "patient_blood_pressure = 100\n",
    "\n",
    "if # your edits here:\n",
    "    print('warning')\n",
    "else:\n",
    "    print('no problems')"
   ]
  },
  {
   "attachments": {},
   "cell_type": "markdown",
   "metadata": {},
   "source": [
    "#### An example of a test with both an `and` and `or` statement: \n",
    "Tests can combine `and` and `or` statements together. For example, some animals have distinct fur colors adapted to the animal's environment. Here we are studying a group of rabbits living on the edge of the forest and the beach. We would like to test our rabbits to see if the fur color matches what we expect for its environment:"
   ]
  },
  {
   "cell_type": "code",
   "execution_count": 44,
   "metadata": {},
   "outputs": [
    {
     "name": "stdout",
     "output_type": "stream",
     "text": [
      "There is something unexpected about this rabbit.\n"
     ]
    }
   ],
   "source": [
    "location = \"beach\"\n",
    "color = \"black\"\n",
    "\n",
    "if (location == \"beach\" and color == \"white\") or (location == \"forest\" and color == \"black\"):\n",
    "    print(\"This rabbit has the expected color for its habitat location.\")\n",
    "else:\n",
    "    print(\"There is something unexpected about this rabbit.\")"
   ]
  },
  {
   "attachments": {},
   "cell_type": "markdown",
   "metadata": {},
   "source": [
    "**Exercise:** Write an `if`/`else` statement to check if a plant sample belongs to \"Species X.\" A plant is a member of \"Species X\" if both of these statements are true:\n",
    "- Its leaf length is under 1mm *or* over 3mm\n",
    "- Its leaf color is either green *or* red"
   ]
  },
  {
   "cell_type": "code",
   "execution_count": null,
   "metadata": {},
   "outputs": [],
   "source": []
  },
  {
   "attachments": {},
   "cell_type": "markdown",
   "metadata": {},
   "source": [
    "## Looping over data in Python\n",
    "\n",
    "Computers are extremely useful for repeating tasks over and over. In Python, a `for` loop asks Python to *do the exact same thing many times*. You might ask Python to run the same probability test 1000 times, or you might want to create the same graph for 100 different data samples. \n",
    "\n",
    "Similar to an `if` statement, a `for` loop begins with the word `for`, followed by a statement describing what we should evaluate, followed by a `:`. The subsequent indented lines describe what should happen during each repeated evaluation of the code.\n",
    "\n",
    "In class we worked on using a `for` loop to find the maximum value in a dataset. Let's walk through an example of similar code that finds the longest word in a list of words:"
   ]
  },
  {
   "cell_type": "code",
   "execution_count": 47,
   "metadata": {},
   "outputs": [
    {
     "name": "stdout",
     "output_type": "stream",
     "text": [
      "mouse\n"
     ]
    }
   ],
   "source": [
    "word_list = [\"dog\", \"mouse\", \"cat\"]\n",
    "\n",
    "longest_word = word_list[0]\n",
    "\n",
    "for word in word_list:\n",
    "    if len(word) > len(longest_word):\n",
    "        longest_word = word\n",
    "\n",
    "print(longest_word)"
   ]
  },
  {
   "attachments": {},
   "cell_type": "markdown",
   "metadata": {},
   "source": [
    "The command `for word in word_list:` asks Python to run all of the following indented lines of code once, **for each word in the variable word_list**. As Python loops through a for loop, it can make calculations, update variables, print statements, and do other actions. \n",
    "\n",
    "**Exercise:** Using a `for` loop, print every item in `vocabulary` that is longer than 5 letters long. "
   ]
  },
  {
   "cell_type": "code",
   "execution_count": 32,
   "metadata": {},
   "outputs": [],
   "source": [
    "vocabulary = [\"mosquito\", \"bee\", \"spider\", \"albatross\"]\n",
    "\n"
   ]
  },
  {
   "attachments": {},
   "cell_type": "markdown",
   "metadata": {},
   "source": [
    "## Introduction to libraries\n",
    " \n",
    "Libraries like `numpy` and `pandas` are a collection of code written by other people. By importing a library, you can use all of *their* code in addition to the code you write yourself. There are thousands of useful Python libraries you can use, and you can even write your own libraries to share with other scientists. In this class we'll learn to use several of the default libraries including `numpy` (which contains code to efficiently work with matrices, linear algebra, and random numbers).\n",
    "\n",
    "We will use another library called `matplotlib` as an example. Matplotlib is a plotting library - it helps you make figures and plots quickly. Matplotlib is a very large library, so it has some subsections that we can reference. For this lab we want to import a specific subsection of the `matplotlib` library called `pyplot`. To do this we can import the library subsection using the command `import matplotlib.pyplot`. Then we can use code kept within the library subsection by using the keyword `matplotlib.pyplot`. \n",
    "\n",
    "However, `matplotlib.pyplot` is a very long phrase to have to type multiple times. Similar to variables, we can give libraries nicknames as well, by using the phrase `as` right after importing the library. For example, if we type `import matplotlib.pyplot as plt`, we can use the nickname `plt` to reference `matplotlib.pyplot` instead of typing out the full name of the library.\n",
    "\n",
    "You'll notice in the code block below, where we import the `matplotlib.pyplot` library, there is also another line of code: `%matplotlib inline`. This is a snippet of code called a **magic command**. This particular magic command tells your Jupyter Notebook to show your plots and figures inside of the Jupyter Notebook itself, instead of saving them elsewhere. We will be using this code snippet throughout this class to quickly see what we are plotting within our Jupyter Notebook. "
   ]
  },
  {
   "cell_type": "code",
   "execution_count": null,
   "metadata": {},
   "outputs": [],
   "source": [
    "import matplotlib.pyplot as plt\n",
    "%matplotlib inline"
   ]
  },
  {
   "attachments": {},
   "cell_type": "markdown",
   "metadata": {},
   "source": [
    "Now that we have imported this matplotlib pyplot library, we can use any of the code commands contained within it. To reference these commands, we use the name (or nickname) of the library - in this case, `plt` - followed by a `.`, followed by the command we want to use. Each library comes with its own set of useful commands, and you will need to read the documentation of each specific library to understand what is possible. \n",
    "\n",
    "For this lab, we'll first use the matplotlib command `scatter`, which is a command that creates a scatterplot of a given set of data. \n",
    "\n",
    "**Exercise:** Look at the output of the following code, and try to understand how the `plt.scatter()` command works. Which variable goes on the x axis - the first variable given to the `plt.scatter()` command, or the second? "
   ]
  },
  {
   "cell_type": "code",
   "execution_count": 36,
   "metadata": {},
   "outputs": [],
   "source": [
    "time = [0, 1, 2, 3, 4, 5]\n",
    "weight = [125, 130, 134, 135, 120, 121]"
   ]
  },
  {
   "attachments": {},
   "cell_type": "markdown",
   "metadata": {},
   "source": [
    "**Exercise:** Matplotlib is a very useful library that can plot a huge variety of data. Try making two more plots using the command `plt.scatter` and made-up data. The data for the first example has already been done for you - this example plots the populations of three different species of mosquitoes. "
   ]
  },
  {
   "cell_type": "code",
   "execution_count": 37,
   "metadata": {},
   "outputs": [],
   "source": [
    "# Plot 1: Try plotting one categorical variable on the x axis, \n",
    "# and one numerical variable on the y axis. \n",
    "\n",
    "species = [\"Aedes aegypti\", \"Anopheles stephensi\", \"Culex pipiens\"]\n",
    "populations = [1000, 1200, 900]"
   ]
  },
  {
   "cell_type": "code",
   "execution_count": 38,
   "metadata": {},
   "outputs": [],
   "source": [
    "# Plot 2: Try plotting two categorical variables against each other. \n"
   ]
  },
  {
   "cell_type": "code",
   "execution_count": 56,
   "metadata": {},
   "outputs": [
    {
     "data": {
      "text/plain": [
       "<BarContainer object of 10 artists>"
      ]
     },
     "execution_count": 56,
     "metadata": {},
     "output_type": "execute_result"
    },
    {
     "data": {
      "image/png": "[encoded data removed]",
      "text/plain": [
       "<Figure size 432x288 with 1 Axes>"
      ]
     },
     "metadata": {
      "needs_background": "light"
     },
     "output_type": "display_data"
    }
   ],
   "source": [
    "# Matplotlib can also create bar plots using the command bar()...\n",
    "\n",
    "x = [58, 56, 71, 85, 83, 95, 29, 8, 69, 22]\n",
    "y = [33, 47, 49, 95, 45, 39, 74, 6, 37, 64]\n",
    "\n",
    "plt.bar(x, y)"
   ]
  },
  {
   "cell_type": "code",
   "execution_count": 57,
   "metadata": {},
   "outputs": [
    {
     "data": {
      "text/plain": [
       "[<matplotlib.lines.Line2D at 0x118e59cc0>]"
      ]
     },
     "execution_count": 57,
     "metadata": {},
     "output_type": "execute_result"
    },
    {
     "data": {
      "image/png": "[encoded data removed]",
      "text/plain": [
       "<Figure size 432x288 with 1 Axes>"
      ]
     },
     "metadata": {
      "needs_background": "light"
     },
     "output_type": "display_data"
    }
   ],
   "source": [
    "# Or scatterplots with connected points using the command plot():\n",
    "plt.plot(x, y)"
   ]
  },
  {
   "attachments": {},
   "cell_type": "markdown",
   "metadata": {},
   "source": [
    "**Exercise:**\n",
    "To create a string variable, we enclosed the text in quotes, like this: `x = \"hello\"`. But what if you want to create a variable that includes quote characters? Declare this sentence as one variable: `\"Begin at the beginning,\" the King said, very gravely, 'and go on till you come to the end: then stop.' - Lewis Carroll`"
   ]
  },
  {
   "cell_type": "code",
   "execution_count": null,
   "metadata": {},
   "outputs": [],
   "source": []
  },
  {
   "attachments": {},
   "cell_type": "markdown",
   "metadata": {},
   "source": [
    "**Exercise:** The symbol `%`, also called modulo, is a logical operator that returns the remainder in a division operation. Use the internet to learn more about using modulo in python, then use `%` and an `if` statement to print whether or not x is an even number. "
   ]
  },
  {
   "cell_type": "code",
   "execution_count": 34,
   "metadata": {},
   "outputs": [],
   "source": [
    "x = 127\n",
    "\n"
   ]
  },
  {
   "attachments": {},
   "cell_type": "markdown",
   "metadata": {},
   "source": [
    "**Exercise:** We are interested in analyzing only the RNA that encodes a protein sequence. This means that the number of letters, or nucleotide bases, in the data should be divisible by three (the number of nucleotides per amino acid codon). Does our data contain errors? Use `%` to see how many extraneous letters are present in the data (if any). "
   ]
  },
  {
   "cell_type": "code",
   "execution_count": 35,
   "metadata": {},
   "outputs": [],
   "source": [
    "RNA = \"AUGUUGAGGGGUUAGUAGUGAGUGGGUGUAGUGAUCCCCCAUCCCCCGUGUCGCUCGAUCGUAACCUA\"\n",
    "\n"
   ]
  }
 ],
 "metadata": {
  "kernelspec": {
   "display_name": "Python 3",
   "language": "python",
   "name": "python3"
  },
  "language_info": {
   "codemirror_mode": {
    "name": "ipython",
    "version": 3
   },
   "file_extension": ".py",
   "mimetype": "text/x-python",
   "name": "python",
   "nbconvert_exporter": "python",
   "pygments_lexer": "ipython3",
   "version": "3.10.10"
  }
 },
 "nbformat": 4,
 "nbformat_minor": 2
}
