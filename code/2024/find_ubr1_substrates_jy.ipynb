{
 "cells": [
  {
   "cell_type": "markdown",
   "metadata": {},
   "source": [
    "# Find N-termini that are (de)stabilized by UBR1 KO\n",
    "\n",
    "jyelland\n",
    "\n",
    "## Procedure\n",
    "\n",
    "1. Clean data from [Timms et al](https://pubmed.ncbi.nlm.nih.gov/31273098/)."
   ]
  },
  {
   "cell_type": "markdown",
   "metadata": {},
   "source": [
    "## Load libraries"
   ]
  },
  {
   "cell_type": "code",
   "execution_count": null,
   "metadata": {
    "vscode": {
     "languageId": "r"
    }
   },
   "outputs": [],
   "source": [
    "library(tidyverse)\n",
    "library(readxl)\n",
    "library(rasilabRtemplates)"
   ]
  },
  {
   "cell_type": "markdown",
   "metadata": {},
   "source": [
    "## Load data"
   ]
  },
  {
   "cell_type": "code",
   "execution_count": null,
   "metadata": {
    "vscode": {
     "languageId": "r"
    }
   },
   "outputs": [],
   "source": [
    "psi_values <- read_excel(\"../../data/2024/aaw4912_timms_sm_data-file-s3.xlsx\", sheet = 1, skip = 1) %>%\n",
    "# select columns of interest\n",
    "    select(1,2,10,18,26,34) %>%\n",
    "# clean names\n",
    "    janitor::clean_names() %>%\n",
    "    print()"
   ]
  },
  {
   "cell_type": "markdown",
   "metadata": {},
   "source": [
    "## Calculate ∆PSI values"
   ]
  },
  {
   "cell_type": "code",
   "execution_count": null,
   "metadata": {
    "vscode": {
     "languageId": "r"
    }
   },
   "outputs": [],
   "source": [
    "delta_psi <- psi_values %>%\n",
    "# make each KO a unique observation\n",
    "    pivot_longer(cols = 3:6) %>%\n",
    "# assign control condition ko = 0\n",
    "    mutate(ko = if_else(!str_detect(name,\"aavs\"), parse_number(name), 0)) %>%\n",
    "    select(-name) %>%\n",
    "# group by transcript ID because for some reason, there are duplicate gene names\n",
    "    group_by(ensembl_transcript_id) %>%\n",
    "# subtract control psi from KO psis to calculate ∆PSI\n",
    "    mutate(d_value = value - value[ko == 0]) %>%\n",
    "    select(-value) %>%\n",
    "# organize by transcript and gene for nice printing \n",
    "    pivot_wider(id_cols = c(ensembl_transcript_id, gene_symbol), names_from = ko, names_prefix = \"ko_\", values_from = d_value,\n",
    "        names_expand = TRUE) %>%\n",
    "    print()"
   ]
  },
  {
   "cell_type": "markdown",
   "metadata": {},
   "source": [
    "## Plot data\n",
    "\n",
    "In progress..."
   ]
  },
  {
   "cell_type": "code",
   "execution_count": null,
   "metadata": {
    "vscode": {
     "languageId": "r"
    }
   },
   "outputs": [],
   "source": [
    "plot_data <- delta_psi %>%\n",
    "    mutate(mean_effect = mean(c(ko_1,ko_2)))\n",
    "\n",
    "plot_data %>% ggplot(aes(x = mean_effect, y = -log10(ko_3))) +\n",
    "    geom_point()"
   ]
  },
  {
   "cell_type": "markdown",
   "metadata": {},
   "source": [
    "## Print table of N-termini _destabilized_ by UBR1\n",
    "These are presumed to be UBR1 substrates with ∆PSI above 0.8"
   ]
  },
  {
   "cell_type": "code",
   "execution_count": null,
   "metadata": {
    "vscode": {
     "languageId": "r"
    }
   },
   "outputs": [],
   "source": [
    "delta_psi %>%\n",
    "# filter to ∆PSI values > 0.8, per Timms et al.\n",
    "    filter(ko_1 > 0.8) %>%\n",
    "    filter(ko_2 > 0.8) %>%\n",
    "# determine UBR1-specific effect by filtering absolute magnitude of KO 3\n",
    "# (not sure how this was done in Timms et al.)\n",
    "    filter(abs(ko_3) < 0.8) %>%\n",
    "# calculate mean stabilizing effect of clone 1 and clone 2 KO\n",
    "    mutate(mean_effect = mean(c(ko_1,ko_2))) %>%\n",
    "    arrange(desc(mean_effect)) %>%\n",
    "# write table\n",
    "    write_tsv(\"../../data/2024/ubr1_destabilized.csv\") %>%\n",
    "    print()\n"
   ]
  },
  {
   "cell_type": "markdown",
   "metadata": {},
   "source": [
    "## Print table of N-termini _stabilized_ by UBR1\n",
    "These N-termini may be more stable in the presence of UBR1, for whatever reason"
   ]
  },
  {
   "cell_type": "code",
   "execution_count": null,
   "metadata": {
    "vscode": {
     "languageId": "r"
    }
   },
   "outputs": [],
   "source": [
    "delta_psi %>%\n",
    "# filter to ∆PSI values > 0.8, per Timms et al.\n",
    "    filter(ko_1 < -0.8) %>%\n",
    "    filter(ko_2 < -0.8) %>%\n",
    "# determine UBR1-specific effect by filtering absolute magnitude of KO 3\n",
    "# (not sure how this was done in Timms et al.)\n",
    "    filter(abs(ko_3) < 0.8) %>%\n",
    "# calculate mean stabilizing effect of clone 1 and clone 2 KO\n",
    "    mutate(mean_effect = mean(c(ko_1,ko_2))) %>%\n",
    "    arrange(mean_effect) %>%\n",
    "# write table\n",
    "    write_tsv(\"../../data/2024/ubr1_stabilized.csv\") %>%\n",
    "    print()\n"
   ]
  }
 ],
 "metadata": {
  "kernelspec": {
   "display_name": "R",
   "language": "R",
   "name": "ir"
  },
  "language_info": {
   "codemirror_mode": "r",
   "file_extension": ".r",
   "mimetype": "text/x-r-source",
   "name": "R",
   "pygments_lexer": "r",
   "version": "4.2.2"
  }
 },
 "nbformat": 4,
 "nbformat_minor": 2
}
