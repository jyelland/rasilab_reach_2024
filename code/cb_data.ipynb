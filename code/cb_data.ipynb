{
 "cells": [
  {
   "cell_type": "code",
   "execution_count": 1,
   "metadata": {},
   "outputs": [
    {
     "name": "stdout",
     "output_type": "stream",
     "text": [
      "Intel MKL WARNING: Support of Intel(R) Streaming SIMD Extensions 4.2 (Intel(R) SSE4.2) enabled only processors has been deprecated. Intel oneAPI Math Kernel Library 2025.0 will require Intel(R) Advanced Vector Extensions (Intel(R) AVX) instructions.\n",
      "Intel MKL WARNING: Support of Intel(R) Streaming SIMD Extensions 4.2 (Intel(R) SSE4.2) enabled only processors has been deprecated. Intel oneAPI Math Kernel Library 2025.0 will require Intel(R) Advanced Vector Extensions (Intel(R) AVX) instructions.\n"
     ]
    }
   ],
   "source": [
    "import pandas as pd\n",
    "import numpy as np\n",
    "import os"
   ]
  },
  {
   "cell_type": "code",
   "execution_count": 2,
   "metadata": {},
   "outputs": [
    {
     "data": {
      "text/plain": [
       "'/Users/gracequarterman/rasilab_spelman_2023/code'"
      ]
     },
     "execution_count": 2,
     "metadata": {},
     "output_type": "execute_result"
    }
   ],
   "source": [
    "os.path.abspath(\".\")"
   ]
  },
  {
   "cell_type": "code",
   "execution_count": 5,
   "metadata": {},
   "outputs": [],
   "source": [
    "import pandas as pd\n",
    "data = pd.read_csv('../data/cb_mageck.gene_summary.tsv')"
   ]
  },
  {
   "cell_type": "code",
   "execution_count": 6,
   "metadata": {},
   "outputs": [
    {
     "data": {
      "text/html": [
       "<div>\n",
       "<style scoped>\n",
       "    .dataframe tbody tr th:only-of-type {\n",
       "        vertical-align: middle;\n",
       "    }\n",
       "\n",
       "    .dataframe tbody tr th {\n",
       "        vertical-align: top;\n",
       "    }\n",
       "\n",
       "    .dataframe thead th {\n",
       "        text-align: right;\n",
       "    }\n",
       "</style>\n",
       "<table border=\"1\" class=\"dataframe\">\n",
       "  <thead>\n",
       "    <tr style=\"text-align: right;\">\n",
       "      <th></th>\n",
       "      <th>id\\tnum\\tneg|score\\tneg|p-value\\tneg|fdr\\tneg|rank\\tneg|goodsgrna\\tneg|lfc\\tpos|score\\tpos|p-value\\tpos|fdr\\tpos|rank\\tpos|goodsgrna\\tpos|lfc</th>\n",
       "    </tr>\n",
       "  </thead>\n",
       "  <tbody>\n",
       "    <tr>\n",
       "      <th>0</th>\n",
       "      <td>UPF2\\t4\\t1.0\\t1.0\\t0.999998\\t2190\\t0\\t2.784\\t4...</td>\n",
       "    </tr>\n",
       "    <tr>\n",
       "      <th>1</th>\n",
       "      <td>RPL12\\t4\\t1.0\\t1.0\\t0.999998\\t2189\\t0\\t2.9256\\...</td>\n",
       "    </tr>\n",
       "    <tr>\n",
       "      <th>2</th>\n",
       "      <td>EIF2S3\\t4\\t0.5951\\t0.66922\\t0.999998\\t1337\\t1\\...</td>\n",
       "    </tr>\n",
       "    <tr>\n",
       "      <th>3</th>\n",
       "      <td>RPL8\\t4\\t0.99999\\t1.0\\t0.999998\\t2188\\t0\\t1.65...</td>\n",
       "    </tr>\n",
       "    <tr>\n",
       "      <th>4</th>\n",
       "      <td>PHB\\t4\\t0.99002\\t0.99012\\t0.999998\\t2117\\t0\\t3...</td>\n",
       "    </tr>\n",
       "    <tr>\n",
       "      <th>...</th>\n",
       "      <td>...</td>\n",
       "    </tr>\n",
       "    <tr>\n",
       "      <th>2185</th>\n",
       "      <td>HNRNPC\\t4\\t0.00020848\\t0.00084317\\t0.210171\\t7...</td>\n",
       "    </tr>\n",
       "    <tr>\n",
       "      <th>2186</th>\n",
       "      <td>METTL3\\t4\\t0.00014486\\t0.00056739\\t0.207096\\t6...</td>\n",
       "    </tr>\n",
       "    <tr>\n",
       "      <th>2187</th>\n",
       "      <td>SBDS\\t4\\t3.6961e-05\\t0.00013337\\t0.058416\\t5\\t...</td>\n",
       "    </tr>\n",
       "    <tr>\n",
       "      <th>2188</th>\n",
       "      <td>PPP1R10\\t4\\t3.0989e-05\\t0.00011076\\t0.058416\\t...</td>\n",
       "    </tr>\n",
       "    <tr>\n",
       "      <th>2189</th>\n",
       "      <td>KIAA1429\\t4\\t1.6681e-05\\t6.5555e-05\\t0.058416\\...</td>\n",
       "    </tr>\n",
       "  </tbody>\n",
       "</table>\n",
       "<p>2190 rows × 1 columns</p>\n",
       "</div>"
      ],
      "text/plain": [
       "     id\\tnum\\tneg|score\\tneg|p-value\\tneg|fdr\\tneg|rank\\tneg|goodsgrna\\tneg|lfc\\tpos|score\\tpos|p-value\\tpos|fdr\\tpos|rank\\tpos|goodsgrna\\tpos|lfc\n",
       "0     UPF2\\t4\\t1.0\\t1.0\\t0.999998\\t2190\\t0\\t2.784\\t4...                                                                                           \n",
       "1     RPL12\\t4\\t1.0\\t1.0\\t0.999998\\t2189\\t0\\t2.9256\\...                                                                                           \n",
       "2     EIF2S3\\t4\\t0.5951\\t0.66922\\t0.999998\\t1337\\t1\\...                                                                                           \n",
       "3     RPL8\\t4\\t0.99999\\t1.0\\t0.999998\\t2188\\t0\\t1.65...                                                                                           \n",
       "4     PHB\\t4\\t0.99002\\t0.99012\\t0.999998\\t2117\\t0\\t3...                                                                                           \n",
       "...                                                 ...                                                                                           \n",
       "2185  HNRNPC\\t4\\t0.00020848\\t0.00084317\\t0.210171\\t7...                                                                                           \n",
       "2186  METTL3\\t4\\t0.00014486\\t0.00056739\\t0.207096\\t6...                                                                                           \n",
       "2187  SBDS\\t4\\t3.6961e-05\\t0.00013337\\t0.058416\\t5\\t...                                                                                           \n",
       "2188  PPP1R10\\t4\\t3.0989e-05\\t0.00011076\\t0.058416\\t...                                                                                           \n",
       "2189  KIAA1429\\t4\\t1.6681e-05\\t6.5555e-05\\t0.058416\\...                                                                                           \n",
       "\n",
       "[2190 rows x 1 columns]"
      ]
     },
     "execution_count": 6,
     "metadata": {},
     "output_type": "execute_result"
    }
   ],
   "source": [
    "data"
   ]
  },
  {
   "cell_type": "code",
   "execution_count": 8,
   "metadata": {},
   "outputs": [],
   "source": [
    "import pandas as pd\n",
    "import numpy as np\n",
    "data = pd.read_table('../data/cb_mageck.gene_summary.tsv')"
   ]
  },
  {
   "cell_type": "code",
   "execution_count": 9,
   "metadata": {},
   "outputs": [
    {
     "data": {
      "text/html": [
       "<div>\n",
       "<style scoped>\n",
       "    .dataframe tbody tr th:only-of-type {\n",
       "        vertical-align: middle;\n",
       "    }\n",
       "\n",
       "    .dataframe tbody tr th {\n",
       "        vertical-align: top;\n",
       "    }\n",
       "\n",
       "    .dataframe thead th {\n",
       "        text-align: right;\n",
       "    }\n",
       "</style>\n",
       "<table border=\"1\" class=\"dataframe\">\n",
       "  <thead>\n",
       "    <tr style=\"text-align: right;\">\n",
       "      <th></th>\n",
       "      <th>id</th>\n",
       "      <th>num</th>\n",
       "      <th>neg|score</th>\n",
       "      <th>neg|p-value</th>\n",
       "      <th>neg|fdr</th>\n",
       "      <th>neg|rank</th>\n",
       "      <th>neg|goodsgrna</th>\n",
       "      <th>neg|lfc</th>\n",
       "      <th>pos|score</th>\n",
       "      <th>pos|p-value</th>\n",
       "      <th>pos|fdr</th>\n",
       "      <th>pos|rank</th>\n",
       "      <th>pos|goodsgrna</th>\n",
       "      <th>pos|lfc</th>\n",
       "    </tr>\n",
       "  </thead>\n",
       "  <tbody>\n",
       "    <tr>\n",
       "      <th>0</th>\n",
       "      <td>UPF2</td>\n",
       "      <td>4</td>\n",
       "      <td>1.000000</td>\n",
       "      <td>1.000000</td>\n",
       "      <td>0.999998</td>\n",
       "      <td>2190</td>\n",
       "      <td>0</td>\n",
       "      <td>2.7840</td>\n",
       "      <td>4.123600e-08</td>\n",
       "      <td>0.000002</td>\n",
       "      <td>0.001650</td>\n",
       "      <td>1</td>\n",
       "      <td>4</td>\n",
       "      <td>2.7840</td>\n",
       "    </tr>\n",
       "    <tr>\n",
       "      <th>1</th>\n",
       "      <td>RPL12</td>\n",
       "      <td>4</td>\n",
       "      <td>1.000000</td>\n",
       "      <td>1.000000</td>\n",
       "      <td>0.999998</td>\n",
       "      <td>2189</td>\n",
       "      <td>0</td>\n",
       "      <td>2.9256</td>\n",
       "      <td>1.476300e-07</td>\n",
       "      <td>0.000002</td>\n",
       "      <td>0.001650</td>\n",
       "      <td>2</td>\n",
       "      <td>4</td>\n",
       "      <td>2.9256</td>\n",
       "    </tr>\n",
       "    <tr>\n",
       "      <th>2</th>\n",
       "      <td>EIF2S3</td>\n",
       "      <td>4</td>\n",
       "      <td>0.595100</td>\n",
       "      <td>0.669220</td>\n",
       "      <td>0.999998</td>\n",
       "      <td>1337</td>\n",
       "      <td>1</td>\n",
       "      <td>3.7772</td>\n",
       "      <td>3.438300e-07</td>\n",
       "      <td>0.000002</td>\n",
       "      <td>0.001650</td>\n",
       "      <td>3</td>\n",
       "      <td>3</td>\n",
       "      <td>3.7772</td>\n",
       "    </tr>\n",
       "    <tr>\n",
       "      <th>3</th>\n",
       "      <td>RPL8</td>\n",
       "      <td>4</td>\n",
       "      <td>0.999990</td>\n",
       "      <td>1.000000</td>\n",
       "      <td>0.999998</td>\n",
       "      <td>2188</td>\n",
       "      <td>0</td>\n",
       "      <td>1.6520</td>\n",
       "      <td>5.870100e-06</td>\n",
       "      <td>0.000034</td>\n",
       "      <td>0.012023</td>\n",
       "      <td>4</td>\n",
       "      <td>4</td>\n",
       "      <td>1.6520</td>\n",
       "    </tr>\n",
       "    <tr>\n",
       "      <th>4</th>\n",
       "      <td>PHB</td>\n",
       "      <td>4</td>\n",
       "      <td>0.990020</td>\n",
       "      <td>0.990120</td>\n",
       "      <td>0.999998</td>\n",
       "      <td>2117</td>\n",
       "      <td>0</td>\n",
       "      <td>3.0105</td>\n",
       "      <td>6.247800e-06</td>\n",
       "      <td>0.000034</td>\n",
       "      <td>0.012023</td>\n",
       "      <td>5</td>\n",
       "      <td>4</td>\n",
       "      <td>3.0105</td>\n",
       "    </tr>\n",
       "    <tr>\n",
       "      <th>...</th>\n",
       "      <td>...</td>\n",
       "      <td>...</td>\n",
       "      <td>...</td>\n",
       "      <td>...</td>\n",
       "      <td>...</td>\n",
       "      <td>...</td>\n",
       "      <td>...</td>\n",
       "      <td>...</td>\n",
       "      <td>...</td>\n",
       "      <td>...</td>\n",
       "      <td>...</td>\n",
       "      <td>...</td>\n",
       "      <td>...</td>\n",
       "      <td>...</td>\n",
       "    </tr>\n",
       "    <tr>\n",
       "      <th>2185</th>\n",
       "      <td>HNRNPC</td>\n",
       "      <td>4</td>\n",
       "      <td>0.000208</td>\n",
       "      <td>0.000843</td>\n",
       "      <td>0.210171</td>\n",
       "      <td>7</td>\n",
       "      <td>4</td>\n",
       "      <td>-1.2900</td>\n",
       "      <td>9.997900e-01</td>\n",
       "      <td>0.999810</td>\n",
       "      <td>0.999989</td>\n",
       "      <td>2186</td>\n",
       "      <td>0</td>\n",
       "      <td>-1.2900</td>\n",
       "    </tr>\n",
       "    <tr>\n",
       "      <th>2186</th>\n",
       "      <td>METTL3</td>\n",
       "      <td>4</td>\n",
       "      <td>0.000145</td>\n",
       "      <td>0.000567</td>\n",
       "      <td>0.207096</td>\n",
       "      <td>6</td>\n",
       "      <td>4</td>\n",
       "      <td>-1.2784</td>\n",
       "      <td>9.998600e-01</td>\n",
       "      <td>0.999860</td>\n",
       "      <td>0.999989</td>\n",
       "      <td>2187</td>\n",
       "      <td>0</td>\n",
       "      <td>-1.2784</td>\n",
       "    </tr>\n",
       "    <tr>\n",
       "      <th>2187</th>\n",
       "      <td>SBDS</td>\n",
       "      <td>4</td>\n",
       "      <td>0.000037</td>\n",
       "      <td>0.000133</td>\n",
       "      <td>0.058416</td>\n",
       "      <td>5</td>\n",
       "      <td>4</td>\n",
       "      <td>-2.3797</td>\n",
       "      <td>9.999600e-01</td>\n",
       "      <td>0.999960</td>\n",
       "      <td>0.999989</td>\n",
       "      <td>2188</td>\n",
       "      <td>0</td>\n",
       "      <td>-2.3797</td>\n",
       "    </tr>\n",
       "    <tr>\n",
       "      <th>2188</th>\n",
       "      <td>PPP1R10</td>\n",
       "      <td>4</td>\n",
       "      <td>0.000031</td>\n",
       "      <td>0.000111</td>\n",
       "      <td>0.058416</td>\n",
       "      <td>4</td>\n",
       "      <td>4</td>\n",
       "      <td>-2.1098</td>\n",
       "      <td>9.999700e-01</td>\n",
       "      <td>0.999970</td>\n",
       "      <td>0.999989</td>\n",
       "      <td>2189</td>\n",
       "      <td>0</td>\n",
       "      <td>-2.1098</td>\n",
       "    </tr>\n",
       "    <tr>\n",
       "      <th>2189</th>\n",
       "      <td>KIAA1429</td>\n",
       "      <td>4</td>\n",
       "      <td>0.000017</td>\n",
       "      <td>0.000066</td>\n",
       "      <td>0.058416</td>\n",
       "      <td>2</td>\n",
       "      <td>4</td>\n",
       "      <td>-1.7302</td>\n",
       "      <td>9.999800e-01</td>\n",
       "      <td>0.999990</td>\n",
       "      <td>0.999989</td>\n",
       "      <td>2190</td>\n",
       "      <td>0</td>\n",
       "      <td>-1.7302</td>\n",
       "    </tr>\n",
       "  </tbody>\n",
       "</table>\n",
       "<p>2190 rows × 14 columns</p>\n",
       "</div>"
      ],
      "text/plain": [
       "            id  num  neg|score  neg|p-value   neg|fdr  neg|rank   \n",
       "0         UPF2    4   1.000000     1.000000  0.999998      2190  \\\n",
       "1        RPL12    4   1.000000     1.000000  0.999998      2189   \n",
       "2       EIF2S3    4   0.595100     0.669220  0.999998      1337   \n",
       "3         RPL8    4   0.999990     1.000000  0.999998      2188   \n",
       "4          PHB    4   0.990020     0.990120  0.999998      2117   \n",
       "...        ...  ...        ...          ...       ...       ...   \n",
       "2185    HNRNPC    4   0.000208     0.000843  0.210171         7   \n",
       "2186    METTL3    4   0.000145     0.000567  0.207096         6   \n",
       "2187      SBDS    4   0.000037     0.000133  0.058416         5   \n",
       "2188   PPP1R10    4   0.000031     0.000111  0.058416         4   \n",
       "2189  KIAA1429    4   0.000017     0.000066  0.058416         2   \n",
       "\n",
       "      neg|goodsgrna  neg|lfc     pos|score  pos|p-value   pos|fdr  pos|rank   \n",
       "0                 0   2.7840  4.123600e-08     0.000002  0.001650         1  \\\n",
       "1                 0   2.9256  1.476300e-07     0.000002  0.001650         2   \n",
       "2                 1   3.7772  3.438300e-07     0.000002  0.001650         3   \n",
       "3                 0   1.6520  5.870100e-06     0.000034  0.012023         4   \n",
       "4                 0   3.0105  6.247800e-06     0.000034  0.012023         5   \n",
       "...             ...      ...           ...          ...       ...       ...   \n",
       "2185              4  -1.2900  9.997900e-01     0.999810  0.999989      2186   \n",
       "2186              4  -1.2784  9.998600e-01     0.999860  0.999989      2187   \n",
       "2187              4  -2.3797  9.999600e-01     0.999960  0.999989      2188   \n",
       "2188              4  -2.1098  9.999700e-01     0.999970  0.999989      2189   \n",
       "2189              4  -1.7302  9.999800e-01     0.999990  0.999989      2190   \n",
       "\n",
       "      pos|goodsgrna  pos|lfc  \n",
       "0                 4   2.7840  \n",
       "1                 4   2.9256  \n",
       "2                 3   3.7772  \n",
       "3                 4   1.6520  \n",
       "4                 4   3.0105  \n",
       "...             ...      ...  \n",
       "2185              0  -1.2900  \n",
       "2186              0  -1.2784  \n",
       "2187              0  -2.3797  \n",
       "2188              0  -2.1098  \n",
       "2189              0  -1.7302  \n",
       "\n",
       "[2190 rows x 14 columns]"
      ]
     },
     "execution_count": 9,
     "metadata": {},
     "output_type": "execute_result"
    }
   ],
   "source": [
    "data"
   ]
  },
  {
   "cell_type": "code",
   "execution_count": 10,
   "metadata": {},
   "outputs": [],
   "source": [
    "import matplotlib.pyplot as plt\n"
   ]
  },
  {
   "cell_type": "code",
   "execution_count": 12,
   "metadata": {},
   "outputs": [],
   "source": [
    "import matplotlib.pyplot as plt\n",
    "import pandas as pd\n",
    "\n",
    "data =pd.read_csv('../data/cb_mageck.gene_summary.tsv', sep='\\t')\n",
    "\n",
    "x = data ['num']\n",
    "y = data ['neg|score']"
   ]
  },
  {
   "cell_type": "code",
   "execution_count": 13,
   "metadata": {},
   "outputs": [
    {
     "data": {
      "text/plain": [
       "0       4\n",
       "1       4\n",
       "2       4\n",
       "3       4\n",
       "4       4\n",
       "       ..\n",
       "2185    4\n",
       "2186    4\n",
       "2187    4\n",
       "2188    4\n",
       "2189    4\n",
       "Name: num, Length: 2190, dtype: int64"
      ]
     },
     "execution_count": 13,
     "metadata": {},
     "output_type": "execute_result"
    }
   ],
   "source": [
    "x\n"
   ]
  },
  {
   "cell_type": "code",
   "execution_count": 14,
   "metadata": {},
   "outputs": [
    {
     "data": {
      "image/png": "[encoded data removed]",
      "text/plain": [
       "<Figure size 640x480 with 1 Axes>"
      ]
     },
     "metadata": {},
     "output_type": "display_data"
    }
   ],
   "source": [
    "plt.scatter (x,y)\n",
    "plt.xlabel('num')\n",
    "plt.ylabel ('neg|score')\n",
    "plt.title ('data plot')\n",
    "plt.show()"
   ]
  },
  {
   "cell_type": "code",
   "execution_count": 15,
   "metadata": {},
   "outputs": [],
   "source": [
    "import matplotlib.pyplot as plt"
   ]
  },
  {
   "cell_type": "code",
   "execution_count": 17,
   "metadata": {},
   "outputs": [],
   "source": [
    "import matplotlib.pyplot as plt\n",
    "import pandas as pd\n",
    "\n",
    "data =pd.read_csv('../data/cb_mageck.gene_summary.tsv', sep='\\t')\n",
    "\n",
    "x = data ['neg|p-value']\n",
    "y = data ['neg|score']"
   ]
  },
  {
   "cell_type": "code",
   "execution_count": 18,
   "metadata": {},
   "outputs": [
    {
     "data": {
      "image/png": "[encoded data removed]",
      "text/plain": [
       "<Figure size 640x480 with 1 Axes>"
      ]
     },
     "metadata": {},
     "output_type": "display_data"
    }
   ],
   "source": [
    "plt.scatter (x,y)\n",
    "plt.xlabel('neg|p-value')\n",
    "plt.ylabel ('neg|score')\n",
    "plt.title ('data plot')\n",
    "plt.show()"
   ]
  }
 ],
 "metadata": {
  "kernelspec": {
   "display_name": "base",
   "language": "python",
   "name": "python3"
  },
  "language_info": {
   "codemirror_mode": {
    "name": "ipython",
    "version": 3
   },
   "file_extension": ".py",
   "mimetype": "text/x-python",
   "name": "python",
   "nbconvert_exporter": "python",
   "pygments_lexer": "ipython3",
   "version": "3.10.10"
  },
  "orig_nbformat": 4
 },
 "nbformat": 4,
 "nbformat_minor": 2
}
