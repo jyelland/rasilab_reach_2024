{
 "cells": [
  {
   "attachments": {},
   "cell_type": "markdown",
   "metadata": {},
   "source": [
    "# Manipulating Data with Python - pandas"
   ]
  },
  {
   "attachments": {},
   "cell_type": "markdown",
   "metadata": {},
   "source": [
    "### Python's Data Science Ecosystem\n",
    "\n",
    "In addition to Python's built-in modules, there are also many often-used third-party modules that are core tools for doing data science with Python.\n",
    "Some of the most important ones are:\n",
    "\n",
    "#### [``numpy``](http://numpy.org/): Numerical Python\n",
    "\n",
    "Numpy is short for \"Numerical Python\", and contains tools for efficient manipulation of arrays of data.\n",
    "If you have used other computational tools like IDL or MatLab, Numpy should feel very familiar.\n",
    "\n",
    "#### [``scipy``](http://scipy.org/): Scientific Python\n",
    "\n",
    "Scipy is short for \"Scientific Python\", and contains a wide range of functionality for accomplishing common scientific tasks, such as optimization/minimization, numerical integration, interpolation, and much more.\n",
    "We will not look closely at Scipy today, but we will use its functionality later in the course.\n",
    "\n",
    "#### [``pandas``](http://pandas.pydata.org/): Labeled Data Manipulation in Python\n",
    "\n",
    "Pandas is short for \"Panel Data\", and contains tools for doing more advanced manipulation of labeled data in Python, in particular with a columnar data structure called a *Data Frame*.\n",
    "If you've used the [R](http://rstats.org) statistical language (and in particular the so-called \"Hadley Stack\"), much of the functionality in Pandas should feel very familiar.\n",
    "\n",
    "#### [``matplotlib``](http://matplotlib.org): Visualization in Python\n",
    "\n",
    "Matplotlib started out as a Matlab plotting clone in Python, and has grown from there in the 15 years since its creation. It is the most popular data visualization tool currently in the Python data world (though other recent packages are starting to encroach on its monopoly)."
   ]
  },
  {
   "attachments": {},
   "cell_type": "markdown",
   "metadata": {},
   "source": [
    "### Installing Pandas & friends\n",
    "\n",
    "Because the above packages are not included in Python itself, you need to install them separately. This can be done on the command line with ```conda```\n",
    "\n",
    "```\n",
    "$ conda install numpy scipy pandas matplotlib\n",
    "```\n",
    "\n",
    "and (so long as your conda setup is working) the packages will be downloaded and installed on your system."
   ]
  },
  {
   "attachments": {},
   "cell_type": "markdown",
   "metadata": {},
   "source": [
    "### Loading Data with Pandas"
   ]
  },
  {
   "attachments": {},
   "cell_type": "markdown",
   "metadata": {},
   "source": [
    "Because we'll use certain packages (like ```pandas```) so much, we often import under a shortened name using the ``import ... as ...`` pattern:"
   ]
  },
  {
   "cell_type": "code",
   "execution_count": 1,
   "metadata": {},
   "outputs": [],
   "source": [
    "import pandas as pd"
   ]
  },
  {
   "attachments": {},
   "cell_type": "markdown",
   "metadata": {},
   "source": [
    "Now we can use the ``read_csv`` command to read the comma-separated-value data:"
   ]
  },
  {
   "cell_type": "code",
   "execution_count": 11,
   "metadata": {},
   "outputs": [],
   "source": [
    "df = pd.read_csv('../data/cb_go_output.csv')"
   ]
  },
  {
   "attachments": {},
   "cell_type": "markdown",
   "metadata": {},
   "source": [
    "*Note: strings in Python can be defined either with double quotes or single quotes*"
   ]
  },
  {
   "attachments": {},
   "cell_type": "markdown",
   "metadata": {},
   "source": [
    "### Viewing Pandas Dataframes"
   ]
  },
  {
   "attachments": {},
   "cell_type": "markdown",
   "metadata": {},
   "source": [
    "The ``head()`` and ``tail()`` methods show us the first and last rows of the data"
   ]
  },
  {
   "cell_type": "code",
   "execution_count": 12,
   "metadata": {},
   "outputs": [
    {
     "data": {
      "text/html": [
       "<div>\n",
       "<style scoped>\n",
       "    .dataframe tbody tr th:only-of-type {\n",
       "        vertical-align: middle;\n",
       "    }\n",
       "\n",
       "    .dataframe tbody tr th {\n",
       "        vertical-align: top;\n",
       "    }\n",
       "\n",
       "    .dataframe thead th {\n",
       "        text-align: right;\n",
       "    }\n",
       "</style>\n",
       "<table border=\"1\" class=\"dataframe\">\n",
       "  <thead>\n",
       "    <tr style=\"text-align: right;\">\n",
       "      <th></th>\n",
       "      <th>GO term</th>\n",
       "      <th>Description</th>\n",
       "      <th>P-value</th>\n",
       "      <th>FDR q-value</th>\n",
       "      <th>Enrichment (N, B, n, b)</th>\n",
       "      <th>Genes</th>\n",
       "    </tr>\n",
       "  </thead>\n",
       "  <tbody>\n",
       "    <tr>\n",
       "      <th>0</th>\n",
       "      <td>GO:0000184</td>\n",
       "      <td>nuclear-transcribed mRNA catabolic process, no...</td>\n",
       "      <td>2.850000e-28</td>\n",
       "      <td>2.090000e-24</td>\n",
       "      <td>4.48 (2150,115,263,63)</td>\n",
       "      <td>[+] Show genes</td>\n",
       "    </tr>\n",
       "    <tr>\n",
       "      <th>1</th>\n",
       "      <td>GO:0019083</td>\n",
       "      <td>viral transcription</td>\n",
       "      <td>2.100000e-27</td>\n",
       "      <td>7.720000e-24</td>\n",
       "      <td>5.02 (2150,88,263,54)</td>\n",
       "      <td>[+] Show genes</td>\n",
       "    </tr>\n",
       "    <tr>\n",
       "      <th>2</th>\n",
       "      <td>GO:0006613</td>\n",
       "      <td>cotranslational protein targeting to membrane</td>\n",
       "      <td>2.650000e-27</td>\n",
       "      <td>6.500000e-24</td>\n",
       "      <td>4.63 (2150,90,294,57)</td>\n",
       "      <td>[+] Show genes</td>\n",
       "    </tr>\n",
       "    <tr>\n",
       "      <th>3</th>\n",
       "      <td>GO:0006413</td>\n",
       "      <td>translational initiation</td>\n",
       "      <td>2.990000e-27</td>\n",
       "      <td>5.500000e-24</td>\n",
       "      <td>4.12 (2150,133,263,67)</td>\n",
       "      <td>[+] Show genes</td>\n",
       "    </tr>\n",
       "    <tr>\n",
       "      <th>4</th>\n",
       "      <td>GO:0006614</td>\n",
       "      <td>SRP-dependent cotranslational protein targetin...</td>\n",
       "      <td>5.960000e-27</td>\n",
       "      <td>8.760000e-24</td>\n",
       "      <td>4.65 (2150,88,294,56)</td>\n",
       "      <td>[+] Show genes</td>\n",
       "    </tr>\n",
       "  </tbody>\n",
       "</table>\n",
       "</div>"
      ],
      "text/plain": [
       "      GO term                                        Description  \\\n",
       "0  GO:0000184  nuclear-transcribed mRNA catabolic process, no...   \n",
       "1  GO:0019083                                viral transcription   \n",
       "2  GO:0006613      cotranslational protein targeting to membrane   \n",
       "3  GO:0006413                           translational initiation   \n",
       "4  GO:0006614  SRP-dependent cotranslational protein targetin...   \n",
       "\n",
       "        P-value   FDR q-value Enrichment (N, B, n, b)           Genes  \n",
       "0  2.850000e-28  2.090000e-24  4.48 (2150,115,263,63)  [+] Show genes  \n",
       "1  2.100000e-27  7.720000e-24   5.02 (2150,88,263,54)  [+] Show genes  \n",
       "2  2.650000e-27  6.500000e-24   4.63 (2150,90,294,57)  [+] Show genes  \n",
       "3  2.990000e-27  5.500000e-24  4.12 (2150,133,263,67)  [+] Show genes  \n",
       "4  5.960000e-27  8.760000e-24   4.65 (2150,88,294,56)  [+] Show genes  "
      ]
     },
     "execution_count": 12,
     "metadata": {},
     "output_type": "execute_result"
    }
   ],
   "source": [
    "df.head()"
   ]
  },
  {
   "cell_type": "code",
   "execution_count": 13,
   "metadata": {},
   "outputs": [
    {
     "data": {
      "text/plain": [
       "Index(['GO term', 'Description', 'P-value', 'FDR q-value',\n",
       "       'Enrichment (N, B, n, b)', 'Genes'],\n",
       "      dtype='object')"
      ]
     },
     "execution_count": 13,
     "metadata": {},
     "output_type": "execute_result"
    }
   ],
   "source": [
    "df.columns"
   ]
  },
  {
   "cell_type": "code",
   "execution_count": 14,
   "metadata": {},
   "outputs": [
    {
     "data": {
      "text/html": [
       "<div>\n",
       "<style scoped>\n",
       "    .dataframe tbody tr th:only-of-type {\n",
       "        vertical-align: middle;\n",
       "    }\n",
       "\n",
       "    .dataframe tbody tr th {\n",
       "        vertical-align: top;\n",
       "    }\n",
       "\n",
       "    .dataframe thead th {\n",
       "        text-align: right;\n",
       "    }\n",
       "</style>\n",
       "<table border=\"1\" class=\"dataframe\">\n",
       "  <thead>\n",
       "    <tr style=\"text-align: right;\">\n",
       "      <th></th>\n",
       "      <th>GO term</th>\n",
       "      <th>Description</th>\n",
       "      <th>P-value</th>\n",
       "      <th>FDR q-value</th>\n",
       "      <th>Enrichment (N, B, n, b)</th>\n",
       "      <th>Genes</th>\n",
       "    </tr>\n",
       "  </thead>\n",
       "  <tbody>\n",
       "    <tr>\n",
       "      <th>122</th>\n",
       "      <td>GO:0048701</td>\n",
       "      <td>embryonic cranial skeleton morphogenesis</td>\n",
       "      <td>0.000593</td>\n",
       "      <td>0.0355</td>\n",
       "      <td>14.53 (2150,3,148,3)</td>\n",
       "      <td>[+] Show genes</td>\n",
       "    </tr>\n",
       "    <tr>\n",
       "      <th>123</th>\n",
       "      <td>GO:0098662</td>\n",
       "      <td>inorganic cation transmembrane transport</td>\n",
       "      <td>0.000665</td>\n",
       "      <td>0.0394</td>\n",
       "      <td>7.04 (2150,13,141,6)</td>\n",
       "      <td>[+] Show genes</td>\n",
       "    </tr>\n",
       "    <tr>\n",
       "      <th>124</th>\n",
       "      <td>GO:0031100</td>\n",
       "      <td>animal organ regeneration</td>\n",
       "      <td>0.000708</td>\n",
       "      <td>0.0417</td>\n",
       "      <td>107.50 (2150,8,5,2)</td>\n",
       "      <td>[+] Show genes</td>\n",
       "    </tr>\n",
       "    <tr>\n",
       "      <th>125</th>\n",
       "      <td>GO:0000463</td>\n",
       "      <td>maturation of LSU-rRNA from tricistronic rRNA ...</td>\n",
       "      <td>0.000837</td>\n",
       "      <td>0.0488</td>\n",
       "      <td>6.41 (2150,11,183,6)</td>\n",
       "      <td>[+] Show genes</td>\n",
       "    </tr>\n",
       "    <tr>\n",
       "      <th>126</th>\n",
       "      <td>GO:0002429</td>\n",
       "      <td>immune response-activating cell surface recept...</td>\n",
       "      <td>0.000851</td>\n",
       "      <td>0.0493</td>\n",
       "      <td>4.69 (2150,35,118,9)</td>\n",
       "      <td>[+] Show genes</td>\n",
       "    </tr>\n",
       "  </tbody>\n",
       "</table>\n",
       "</div>"
      ],
      "text/plain": [
       "        GO term                                        Description   P-value  \\\n",
       "122  GO:0048701           embryonic cranial skeleton morphogenesis  0.000593   \n",
       "123  GO:0098662           inorganic cation transmembrane transport  0.000665   \n",
       "124  GO:0031100                          animal organ regeneration  0.000708   \n",
       "125  GO:0000463  maturation of LSU-rRNA from tricistronic rRNA ...  0.000837   \n",
       "126  GO:0002429  immune response-activating cell surface recept...  0.000851   \n",
       "\n",
       "     FDR q-value Enrichment (N, B, n, b)           Genes  \n",
       "122       0.0355    14.53 (2150,3,148,3)  [+] Show genes  \n",
       "123       0.0394    7.04 (2150,13,141,6)  [+] Show genes  \n",
       "124       0.0417     107.50 (2150,8,5,2)  [+] Show genes  \n",
       "125       0.0488    6.41 (2150,11,183,6)  [+] Show genes  \n",
       "126       0.0493    4.69 (2150,35,118,9)  [+] Show genes  "
      ]
     },
     "execution_count": 14,
     "metadata": {},
     "output_type": "execute_result"
    }
   ],
   "source": [
    "df.tail()"
   ]
  },
  {
   "attachments": {},
   "cell_type": "markdown",
   "metadata": {},
   "source": [
    "The ``shape`` attribute shows us the number of elements:"
   ]
  },
  {
   "cell_type": "code",
   "execution_count": 15,
   "metadata": {},
   "outputs": [
    {
     "data": {
      "text/plain": [
       "(127, 6)"
      ]
     },
     "execution_count": 15,
     "metadata": {},
     "output_type": "execute_result"
    }
   ],
   "source": [
    "df.shape"
   ]
  },
  {
   "attachments": {},
   "cell_type": "markdown",
   "metadata": {},
   "source": [
    "The ``index`` attribute gives us the index names"
   ]
  },
  {
   "cell_type": "code",
   "execution_count": 16,
   "metadata": {},
   "outputs": [
    {
     "data": {
      "text/plain": [
       "RangeIndex(start=0, stop=127, step=1)"
      ]
     },
     "execution_count": 16,
     "metadata": {},
     "output_type": "execute_result"
    }
   ],
   "source": [
    "df.index"
   ]
  },
  {
   "attachments": {},
   "cell_type": "markdown",
   "metadata": {},
   "source": [
    "The ``dtypes`` attribute gives the data types of each column:"
   ]
  },
  {
   "cell_type": "code",
   "execution_count": 17,
   "metadata": {},
   "outputs": [
    {
     "data": {
      "text/plain": [
       "GO term                     object\n",
       "Description                 object\n",
       "P-value                    float64\n",
       "FDR q-value                float64\n",
       "Enrichment (N, B, n, b)     object\n",
       "Genes                       object\n",
       "dtype: object"
      ]
     },
     "execution_count": 17,
     "metadata": {},
     "output_type": "execute_result"
    }
   ],
   "source": [
    "df.dtypes"
   ]
  },
  {
   "attachments": {},
   "cell_type": "markdown",
   "metadata": {},
   "source": [
    "## 4. Manipulating data with ``pandas``"
   ]
  },
  {
   "attachments": {},
   "cell_type": "markdown",
   "metadata": {},
   "source": [
    "Access columns by name using square-bracket indexing:"
   ]
  },
  {
   "cell_type": "code",
   "execution_count": 18,
   "metadata": {},
   "outputs": [
    {
     "data": {
      "text/plain": [
       "0      4.48 (2150,115,263,63)\n",
       "1       5.02 (2150,88,263,54)\n",
       "2       4.63 (2150,90,294,57)\n",
       "3      4.12 (2150,133,263,67)\n",
       "4       4.65 (2150,88,294,56)\n",
       "                ...          \n",
       "122      14.53 (2150,3,148,3)\n",
       "123      7.04 (2150,13,141,6)\n",
       "124       107.50 (2150,8,5,2)\n",
       "125      6.41 (2150,11,183,6)\n",
       "126      4.69 (2150,35,118,9)\n",
       "Name: Enrichment (N, B, n, b), Length: 127, dtype: object"
      ]
     },
     "execution_count": 18,
     "metadata": {},
     "output_type": "execute_result"
    }
   ],
   "source": [
    "df['Enrichment (N, B, n, b)']"
   ]
  },
  {
   "attachments": {},
   "cell_type": "markdown",
   "metadata": {},
   "source": [
    "Columns can be created (or overwritten) with the assignment operator.    "
   ]
  },
  {
   "cell_type": "code",
   "execution_count": 26,
   "metadata": {},
   "outputs": [
    {
     "data": {
      "text/html": [
       "<div>\n",
       "<style scoped>\n",
       "    .dataframe tbody tr th:only-of-type {\n",
       "        vertical-align: middle;\n",
       "    }\n",
       "\n",
       "    .dataframe tbody tr th {\n",
       "        vertical-align: top;\n",
       "    }\n",
       "\n",
       "    .dataframe thead th {\n",
       "        text-align: right;\n",
       "    }\n",
       "</style>\n",
       "<table border=\"1\" class=\"dataframe\">\n",
       "  <thead>\n",
       "    <tr style=\"text-align: right;\">\n",
       "      <th></th>\n",
       "      <th>GO term</th>\n",
       "      <th>Description</th>\n",
       "      <th>P-value</th>\n",
       "      <th>FDR q-value</th>\n",
       "      <th>Enrichment (N, B, n, b)</th>\n",
       "      <th>Genes</th>\n",
       "      <th>add_a_column</th>\n",
       "    </tr>\n",
       "  </thead>\n",
       "  <tbody>\n",
       "    <tr>\n",
       "      <th>0</th>\n",
       "      <td>GO:0000184</td>\n",
       "      <td>nuclear-transcribed mRNA catabolic process, no...</td>\n",
       "      <td>2.850000e-28</td>\n",
       "      <td>2.090000e-24</td>\n",
       "      <td>4.48 (2150,115,263,63)</td>\n",
       "      <td>[+] Show genes</td>\n",
       "      <td>2.850000e-28</td>\n",
       "    </tr>\n",
       "    <tr>\n",
       "      <th>1</th>\n",
       "      <td>GO:0019083</td>\n",
       "      <td>viral transcription</td>\n",
       "      <td>2.100000e-27</td>\n",
       "      <td>7.720000e-24</td>\n",
       "      <td>5.02 (2150,88,263,54)</td>\n",
       "      <td>[+] Show genes</td>\n",
       "      <td>2.100000e-27</td>\n",
       "    </tr>\n",
       "    <tr>\n",
       "      <th>2</th>\n",
       "      <td>GO:0006613</td>\n",
       "      <td>cotranslational protein targeting to membrane</td>\n",
       "      <td>2.650000e-27</td>\n",
       "      <td>6.500000e-24</td>\n",
       "      <td>4.63 (2150,90,294,57)</td>\n",
       "      <td>[+] Show genes</td>\n",
       "      <td>2.650000e-27</td>\n",
       "    </tr>\n",
       "    <tr>\n",
       "      <th>3</th>\n",
       "      <td>GO:0006413</td>\n",
       "      <td>translational initiation</td>\n",
       "      <td>2.990000e-27</td>\n",
       "      <td>5.500000e-24</td>\n",
       "      <td>4.12 (2150,133,263,67)</td>\n",
       "      <td>[+] Show genes</td>\n",
       "      <td>2.990000e-27</td>\n",
       "    </tr>\n",
       "    <tr>\n",
       "      <th>4</th>\n",
       "      <td>GO:0006614</td>\n",
       "      <td>SRP-dependent cotranslational protein targetin...</td>\n",
       "      <td>5.960000e-27</td>\n",
       "      <td>8.760000e-24</td>\n",
       "      <td>4.65 (2150,88,294,56)</td>\n",
       "      <td>[+] Show genes</td>\n",
       "      <td>5.960000e-27</td>\n",
       "    </tr>\n",
       "  </tbody>\n",
       "</table>\n",
       "</div>"
      ],
      "text/plain": [
       "      GO term                                        Description  \\\n",
       "0  GO:0000184  nuclear-transcribed mRNA catabolic process, no...   \n",
       "1  GO:0019083                                viral transcription   \n",
       "2  GO:0006613      cotranslational protein targeting to membrane   \n",
       "3  GO:0006413                           translational initiation   \n",
       "4  GO:0006614  SRP-dependent cotranslational protein targetin...   \n",
       "\n",
       "        P-value   FDR q-value Enrichment (N, B, n, b)           Genes  \\\n",
       "0  2.850000e-28  2.090000e-24  4.48 (2150,115,263,63)  [+] Show genes   \n",
       "1  2.100000e-27  7.720000e-24   5.02 (2150,88,263,54)  [+] Show genes   \n",
       "2  2.650000e-27  6.500000e-24   4.63 (2150,90,294,57)  [+] Show genes   \n",
       "3  2.990000e-27  5.500000e-24  4.12 (2150,133,263,67)  [+] Show genes   \n",
       "4  5.960000e-27  8.760000e-24   4.65 (2150,88,294,56)  [+] Show genes   \n",
       "\n",
       "   add_a_column  \n",
       "0  2.850000e-28  \n",
       "1  2.100000e-27  \n",
       "2  2.650000e-27  \n",
       "3  2.990000e-27  \n",
       "4  5.960000e-27  "
      ]
     },
     "execution_count": 26,
     "metadata": {},
     "output_type": "execute_result"
    }
   ],
   "source": [
    "df['add_a_column'] = df['P-value']\n",
    "df.head()"
   ]
  },
  {
   "attachments": {},
   "cell_type": "markdown",
   "metadata": {},
   "source": [
    "Locate a cell using the ```.loc``` command"
   ]
  },
  {
   "cell_type": "code",
   "execution_count": 28,
   "metadata": {},
   "outputs": [
    {
     "data": {
      "text/plain": [
       "5.5e-24"
      ]
     },
     "execution_count": 28,
     "metadata": {},
     "output_type": "execute_result"
    }
   ],
   "source": [
    "df.loc[3, 'FDR q-value']"
   ]
  },
  {
   "attachments": {},
   "cell_type": "markdown",
   "metadata": {},
   "source": [
    "Sort values in a column"
   ]
  },
  {
   "cell_type": "code",
   "execution_count": 29,
   "metadata": {},
   "outputs": [
    {
     "data": {
      "text/html": [
       "<div>\n",
       "<style scoped>\n",
       "    .dataframe tbody tr th:only-of-type {\n",
       "        vertical-align: middle;\n",
       "    }\n",
       "\n",
       "    .dataframe tbody tr th {\n",
       "        vertical-align: top;\n",
       "    }\n",
       "\n",
       "    .dataframe thead th {\n",
       "        text-align: right;\n",
       "    }\n",
       "</style>\n",
       "<table border=\"1\" class=\"dataframe\">\n",
       "  <thead>\n",
       "    <tr style=\"text-align: right;\">\n",
       "      <th></th>\n",
       "      <th>GO term</th>\n",
       "      <th>Description</th>\n",
       "      <th>P-value</th>\n",
       "      <th>FDR q-value</th>\n",
       "      <th>Enrichment (N, B, n, b)</th>\n",
       "      <th>Genes</th>\n",
       "      <th>add_a_column</th>\n",
       "    </tr>\n",
       "  </thead>\n",
       "  <tbody>\n",
       "    <tr>\n",
       "      <th>0</th>\n",
       "      <td>GO:0000184</td>\n",
       "      <td>nuclear-transcribed mRNA catabolic process, no...</td>\n",
       "      <td>2.850000e-28</td>\n",
       "      <td>2.090000e-24</td>\n",
       "      <td>4.48 (2150,115,263,63)</td>\n",
       "      <td>[+] Show genes</td>\n",
       "      <td>2.850000e-28</td>\n",
       "    </tr>\n",
       "    <tr>\n",
       "      <th>3</th>\n",
       "      <td>GO:0006413</td>\n",
       "      <td>translational initiation</td>\n",
       "      <td>2.990000e-27</td>\n",
       "      <td>5.500000e-24</td>\n",
       "      <td>4.12 (2150,133,263,67)</td>\n",
       "      <td>[+] Show genes</td>\n",
       "      <td>2.990000e-27</td>\n",
       "    </tr>\n",
       "    <tr>\n",
       "      <th>7</th>\n",
       "      <td>GO:0045047</td>\n",
       "      <td>protein targeting to ER</td>\n",
       "      <td>6.370000e-27</td>\n",
       "      <td>5.850000e-24</td>\n",
       "      <td>4.58 (2150,91,294,57)</td>\n",
       "      <td>[+] Show genes</td>\n",
       "      <td>6.370000e-27</td>\n",
       "    </tr>\n",
       "    <tr>\n",
       "      <th>2</th>\n",
       "      <td>GO:0006613</td>\n",
       "      <td>cotranslational protein targeting to membrane</td>\n",
       "      <td>2.650000e-27</td>\n",
       "      <td>6.500000e-24</td>\n",
       "      <td>4.63 (2150,90,294,57)</td>\n",
       "      <td>[+] Show genes</td>\n",
       "      <td>2.650000e-27</td>\n",
       "    </tr>\n",
       "    <tr>\n",
       "      <th>6</th>\n",
       "      <td>GO:0072599</td>\n",
       "      <td>establishment of protein localization to endop...</td>\n",
       "      <td>6.370000e-27</td>\n",
       "      <td>6.690000e-24</td>\n",
       "      <td>4.58 (2150,91,294,57)</td>\n",
       "      <td>[+] Show genes</td>\n",
       "      <td>6.370000e-27</td>\n",
       "    </tr>\n",
       "    <tr>\n",
       "      <th>...</th>\n",
       "      <td>...</td>\n",
       "      <td>...</td>\n",
       "      <td>...</td>\n",
       "      <td>...</td>\n",
       "      <td>...</td>\n",
       "      <td>...</td>\n",
       "      <td>...</td>\n",
       "    </tr>\n",
       "    <tr>\n",
       "      <th>122</th>\n",
       "      <td>GO:0048701</td>\n",
       "      <td>embryonic cranial skeleton morphogenesis</td>\n",
       "      <td>5.930000e-04</td>\n",
       "      <td>3.550000e-02</td>\n",
       "      <td>14.53 (2150,3,148,3)</td>\n",
       "      <td>[+] Show genes</td>\n",
       "      <td>5.930000e-04</td>\n",
       "    </tr>\n",
       "    <tr>\n",
       "      <th>123</th>\n",
       "      <td>GO:0098662</td>\n",
       "      <td>inorganic cation transmembrane transport</td>\n",
       "      <td>6.650000e-04</td>\n",
       "      <td>3.940000e-02</td>\n",
       "      <td>7.04 (2150,13,141,6)</td>\n",
       "      <td>[+] Show genes</td>\n",
       "      <td>6.650000e-04</td>\n",
       "    </tr>\n",
       "    <tr>\n",
       "      <th>124</th>\n",
       "      <td>GO:0031100</td>\n",
       "      <td>animal organ regeneration</td>\n",
       "      <td>7.080000e-04</td>\n",
       "      <td>4.170000e-02</td>\n",
       "      <td>107.50 (2150,8,5,2)</td>\n",
       "      <td>[+] Show genes</td>\n",
       "      <td>7.080000e-04</td>\n",
       "    </tr>\n",
       "    <tr>\n",
       "      <th>125</th>\n",
       "      <td>GO:0000463</td>\n",
       "      <td>maturation of LSU-rRNA from tricistronic rRNA ...</td>\n",
       "      <td>8.370000e-04</td>\n",
       "      <td>4.880000e-02</td>\n",
       "      <td>6.41 (2150,11,183,6)</td>\n",
       "      <td>[+] Show genes</td>\n",
       "      <td>8.370000e-04</td>\n",
       "    </tr>\n",
       "    <tr>\n",
       "      <th>126</th>\n",
       "      <td>GO:0002429</td>\n",
       "      <td>immune response-activating cell surface recept...</td>\n",
       "      <td>8.510000e-04</td>\n",
       "      <td>4.930000e-02</td>\n",
       "      <td>4.69 (2150,35,118,9)</td>\n",
       "      <td>[+] Show genes</td>\n",
       "      <td>8.510000e-04</td>\n",
       "    </tr>\n",
       "  </tbody>\n",
       "</table>\n",
       "<p>127 rows × 7 columns</p>\n",
       "</div>"
      ],
      "text/plain": [
       "        GO term                                        Description  \\\n",
       "0    GO:0000184  nuclear-transcribed mRNA catabolic process, no...   \n",
       "3    GO:0006413                           translational initiation   \n",
       "7    GO:0045047                            protein targeting to ER   \n",
       "2    GO:0006613      cotranslational protein targeting to membrane   \n",
       "6    GO:0072599  establishment of protein localization to endop...   \n",
       "..          ...                                                ...   \n",
       "122  GO:0048701           embryonic cranial skeleton morphogenesis   \n",
       "123  GO:0098662           inorganic cation transmembrane transport   \n",
       "124  GO:0031100                          animal organ regeneration   \n",
       "125  GO:0000463  maturation of LSU-rRNA from tricistronic rRNA ...   \n",
       "126  GO:0002429  immune response-activating cell surface recept...   \n",
       "\n",
       "          P-value   FDR q-value Enrichment (N, B, n, b)           Genes  \\\n",
       "0    2.850000e-28  2.090000e-24  4.48 (2150,115,263,63)  [+] Show genes   \n",
       "3    2.990000e-27  5.500000e-24  4.12 (2150,133,263,67)  [+] Show genes   \n",
       "7    6.370000e-27  5.850000e-24   4.58 (2150,91,294,57)  [+] Show genes   \n",
       "2    2.650000e-27  6.500000e-24   4.63 (2150,90,294,57)  [+] Show genes   \n",
       "6    6.370000e-27  6.690000e-24   4.58 (2150,91,294,57)  [+] Show genes   \n",
       "..            ...           ...                     ...             ...   \n",
       "122  5.930000e-04  3.550000e-02    14.53 (2150,3,148,3)  [+] Show genes   \n",
       "123  6.650000e-04  3.940000e-02    7.04 (2150,13,141,6)  [+] Show genes   \n",
       "124  7.080000e-04  4.170000e-02     107.50 (2150,8,5,2)  [+] Show genes   \n",
       "125  8.370000e-04  4.880000e-02    6.41 (2150,11,183,6)  [+] Show genes   \n",
       "126  8.510000e-04  4.930000e-02    4.69 (2150,35,118,9)  [+] Show genes   \n",
       "\n",
       "     add_a_column  \n",
       "0    2.850000e-28  \n",
       "3    2.990000e-27  \n",
       "7    6.370000e-27  \n",
       "2    2.650000e-27  \n",
       "6    6.370000e-27  \n",
       "..            ...  \n",
       "122  5.930000e-04  \n",
       "123  6.650000e-04  \n",
       "124  7.080000e-04  \n",
       "125  8.370000e-04  \n",
       "126  8.510000e-04  \n",
       "\n",
       "[127 rows x 7 columns]"
      ]
     },
     "execution_count": 29,
     "metadata": {},
     "output_type": "execute_result"
    }
   ],
   "source": [
    "df.sort_values('FDR q-value')"
   ]
  },
  {
   "attachments": {},
   "cell_type": "markdown",
   "metadata": {},
   "source": [
    "Exercise: How would you the above sort by descending order?"
   ]
  },
  {
   "attachments": {},
   "cell_type": "markdown",
   "metadata": {},
   "source": [
    "## 5. Visualizing data with ``pandas``\n",
    "\n",
    "Of course, looking at tables of data is not very intuitive.\n",
    "Fortunately Pandas has many useful plotting functions built-in, all of which make use of the ``matplotlib`` library to generate plots.\n",
    "\n",
    "Whenever you do plotting in the IPython notebook, you will want to first run this *magic command* which configures the notebook to work well with plots:"
   ]
  },
  {
   "cell_type": "code",
   "execution_count": 30,
   "metadata": {},
   "outputs": [],
   "source": [
    "%matplotlib inline"
   ]
  },
  {
   "attachments": {},
   "cell_type": "markdown",
   "metadata": {},
   "source": [
    "Now we can simply call the ``plot()`` method of any series or dataframe to get a reasonable view of the data:"
   ]
  },
  {
   "cell_type": "code",
   "execution_count": 31,
   "metadata": {},
   "outputs": [
    {
     "data": {
      "text/plain": [
       "<Axes: >"
      ]
     },
     "execution_count": 31,
     "metadata": {},
     "output_type": "execute_result"
    },
    {
     "data": {
      "image/png": "[encoded data removed]",
      "text/plain": [
       "<Figure size 640x480 with 1 Axes>"
      ]
     },
     "metadata": {},
     "output_type": "display_data"
    }
   ],
   "source": [
    "import matplotlib.pyplot as plt\n",
    "df['FDR q-value'].hist()"
   ]
  },
  {
   "attachments": {},
   "cell_type": "markdown",
   "metadata": {},
   "source": [
    "### Other plot types\n",
    "\n",
    "Pandas supports a range of other plotting types; you can find these by using the <TAB> autocomplete on the ``plot`` method:"
   ]
  },
  {
   "cell_type": "code",
   "execution_count": null,
   "metadata": {},
   "outputs": [],
   "source": []
  }
 ],
 "metadata": {
  "kernelspec": {
   "display_name": "base",
   "language": "python",
   "name": "python3"
  },
  "language_info": {
   "codemirror_mode": {
    "name": "ipython",
    "version": 3
   },
   "file_extension": ".py",
   "mimetype": "text/x-python",
   "name": "python",
   "nbconvert_exporter": "python",
   "pygments_lexer": "ipython3",
   "version": "3.10.10"
  },
  "orig_nbformat": 4
 },
 "nbformat": 4,
 "nbformat_minor": 2
}
